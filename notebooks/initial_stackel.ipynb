{
 "cells": [
  {
   "attachments": {},
   "cell_type": "markdown",
   "metadata": {},
   "source": [
    "## Things to represent\n",
    "- The actual utility functions\n",
    "- "
   ]
  },
  {
   "cell_type": "code",
   "execution_count": 2,
   "metadata": {},
   "outputs": [
    {
     "name": "stderr",
     "output_type": "stream",
     "text": [
      "c:\\Users\\jhr\\Anaconda3\\envs\\pycid\\lib\\site-packages\\tqdm\\auto.py:22: TqdmWarning: IProgress not found. Please update jupyter and ipywidgets. See https://ipywidgets.readthedocs.io/en/stable/user_install.html\n",
      "  from .autonotebook import tqdm as notebook_tqdm\n"
     ]
    }
   ],
   "source": [
    "import pycid\n",
    "import numpy as np\n",
    "from pycid.core.mechanised_graph import MechanisedGraph"
   ]
  },
  {
   "cell_type": "code",
   "execution_count": 3,
   "metadata": {},
   "outputs": [],
   "source": [
    "def utility_function_follower(d1: tuple, d2: int) -> float:\n",
    "    \"\"\"From GT slides\"\"\"\n",
    "    R = 2\n",
    "    P = 1\n",
    "    udef = 1 - d1[d2-1] * R + d1[d2-1] * P\n",
    "    return udef\n",
    "\n",
    "def utility_function_leader(d1: tuple, d2: int) -> float:\n",
    "    R = 2\n",
    "    P = 1\n",
    "    udef = 1 - d1[d2-1] * P + d1[d2-1] * R\n",
    "    return udef\n"
   ]
  },
  {
   "cell_type": "code",
   "execution_count": 4,
   "metadata": {},
   "outputs": [],
   "source": [
    "\n",
    "\n",
    "# Simple MACID setup\n",
    "macid = pycid.MACID(\n",
    "    [(\"D1\", \"U1\"), (\"D1\", \"U2\"), (\"D2\", \"U1\"), (\"D2\", \"U2\")],\n",
    "    agent_decisions={1: [\"D1\"], 2: [\"D2\"]},\n",
    "    agent_utilities={1: [\"U1\"], 2: [\"U2\"]},\n",
    ")\n",
    "\n",
    "# Discretise domains to fit with PyCID (It is not possible to use continuous domains in pygambit, right?)\n",
    "PRECISION = 0.2\n",
    "CONSTRAINT = 1\n",
    "d1_domain = [(a, b, c) for a in np.arange(0, 1.1, PRECISION) for b in np.arange(0, 1.1, PRECISION) for c in np.arange(0, 1.1, PRECISION) if a + b + c == CONSTRAINT]\n",
    "d2_domain = list(range(1, 4))\n",
    "\n",
    "macid.add_cpds(\n",
    "    D1 = d1_domain,\n",
    "    D2 = d2_domain,\n",
    "    U1 = lambda D1, D2: utility_function_leader(D1, D2),\n",
    "    U2 = lambda D1, D2: utility_function_follower(D1, D2),\n",
    ")\n",
    "\n",
    "\n",
    "mech = MechanisedGraph(macid)"
   ]
  },
  {
   "cell_type": "code",
   "execution_count": 5,
   "metadata": {},
   "outputs": [
    {
     "name": "stderr",
     "output_type": "stream",
     "text": [
      "C:\\Users\\jhr\\pycid\\pycid\\core\\macid_base.py:59: UserWarning: adding DecisionDomain to non-decision node D1\n",
      "  warn(f\"adding DecisionDomain to non-decision node {variable}\")\n",
      "C:\\Users\\jhr\\pycid\\pycid\\core\\macid_base.py:59: UserWarning: adding DecisionDomain to non-decision node D2\n",
      "  warn(f\"adding DecisionDomain to non-decision node {variable}\")\n"
     ]
    }
   ],
   "source": [
    "# solve for all nash equilibria\n",
    "nash_eq = macid.get_ne(solver=\"enummixed\")"
   ]
  },
  {
   "cell_type": "code",
   "execution_count": 7,
   "metadata": {},
   "outputs": [],
   "source": [
    "from pycid.core.cpd import StochasticFunctionCPD\n",
    "\n",
    "def any_high_prob(CPD: StochasticFunctionCPD, threshold=0.9) -> bool:\n",
    "    return any(probability for probability in CPD.get_values() if probability > threshold)"
   ]
  },
  {
   "cell_type": "code",
   "execution_count": 9,
   "metadata": {},
   "outputs": [],
   "source": [
    "# process for finding stackelberg equilibrium: find the strategy (or meta-strategy) that has the highest probability and then commit to that. \n",
    "# An alternative approach would be to commit to the highest utility meta-strategy, but is that allowed? :))\n",
    "\n",
    "high_probability_strategies = [CPD for CPD in nash_eq if any_high_prob(CPD[0], threshold=0.9)]\n",
    "\n",
    "# find the strategy that has the highest probability\n",
    "highest_probability_strategy = max(nash_eq, key=lambda CPD: max(CPD[0].get_values()))\n"
   ]
  },
  {
   "cell_type": "code",
   "execution_count": 11,
   "metadata": {},
   "outputs": [
    {
     "data": {
      "text/plain": [
       "[StochasticFunctionCPD<D1> \n",
       " {}  ->  {(0.0, 0.0, 1.0): 0.0, (0.0, 0.2, 0.8): 0.0, (0.0, 0.4, 0.6000000000000001): 0.0, (0.0, 0.6000000000000001, 0.4): 0.0, (0.0, 0.8, 0.2): 0.0, (0.0, 1.0, 0.0): 0.0, (0.2, 0.0, 0.8): 0.0, (0.2, 0.2, 0.6000000000000001): 0.0, (0.2, 0.4, 0.4): 0.8333333333333335, (0.2, 0.6000000000000001, 0.2): 0.0, (0.2, 0.8, 0.0): 0.0, (0.4, 0.0, 0.6000000000000001): 0.0, (0.4, 0.2, 0.4): 0.0, (0.4, 0.4, 0.2): 0.0, (0.4, 0.6000000000000001, 0.0): 0.0, (0.6000000000000001, 0.0, 0.4): 0.0, (0.6000000000000001, 0.2, 0.2): 0.0, (0.6000000000000001, 0.4, 0.0): 0.0, (0.8, 0.0, 0.2): 0.0, (0.8, 0.2, 0.0): 0.0, (1.0, 0.0, 0.0): 0.16666666666666657},\n",
       " StochasticFunctionCPD<D2> \n",
       " {}  ->  {1: 0.33333333333333326, 2: 0.3333333333333333, 3: 0.33333333333333354}]"
      ]
     },
     "execution_count": 11,
     "metadata": {},
     "output_type": "execute_result"
    }
   ],
   "source": [
    "highest_probability_strategy"
   ]
  }
 ],
 "metadata": {
  "kernelspec": {
   "display_name": "pycid",
   "language": "python",
   "name": "python3"
  },
  "language_info": {
   "codemirror_mode": {
    "name": "ipython",
    "version": 3
   },
   "file_extension": ".py",
   "mimetype": "text/x-python",
   "name": "python",
   "nbconvert_exporter": "python",
   "pygments_lexer": "ipython3",
   "version": "3.10.8"
  },
  "orig_nbformat": 4,
  "vscode": {
   "interpreter": {
    "hash": "1c9fc4f94fa3417a06aff16283d7f0aaf7807c9785340e38d545152ddc0502bf"
   }
  }
 },
 "nbformat": 4,
 "nbformat_minor": 2
}
